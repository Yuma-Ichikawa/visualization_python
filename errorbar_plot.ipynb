{
  "nbformat": 4,
  "nbformat_minor": 0,
  "metadata": {
    "colab": {
      "name": "errorbar_plot.ipynb",
      "provenance": [],
      "collapsed_sections": [],
      "authorship_tag": "ABX9TyMtPbZ8wxDUtHD4Vxn0BdZT",
      "include_colab_link": true
    },
    "kernelspec": {
      "name": "python3",
      "display_name": "Python 3"
    }
  },
  "cells": [
    {
      "cell_type": "markdown",
      "metadata": {
        "id": "view-in-github",
        "colab_type": "text"
      },
      "source": [
        "<a href=\"https://colab.research.google.com/github/Yuma-Ichikawa/visualization_python/blob/main/errorbar_plot.ipynb\" target=\"_parent\"><img src=\"https://colab.research.google.com/assets/colab-badge.svg\" alt=\"Open In Colab\"/></a>"
      ]
    },
    {
      "cell_type": "markdown",
      "metadata": {
        "id": "StfrISgrqEa5"
      },
      "source": [
        "# PythonでErrorbarつきのグラフを作成する"
      ]
    },
    {
      "cell_type": "code",
      "metadata": {
        "id": "CiRtW29-pSV8"
      },
      "source": [
        "import matplotlib.pyplot as plt\n",
        "import numpy as np\n",
        "import pandas as pd"
      ],
      "execution_count": 23,
      "outputs": []
    },
    {
      "cell_type": "markdown",
      "metadata": {
        "id": "_pDDszSoqSDS"
      },
      "source": [
        "### errorbarの引数\n",
        "\n",
        "\n",
        "*   x : x軸の値\n",
        "*   y : y軸の値\n",
        "*   xerr : x軸の各値に対する誤差\n",
        "*   yerr : y軸の各値に対する誤差\n",
        "*   ecolor : エラーバーの色\n",
        "*   capsize : エラーバーの横線の長さ\n",
        "*   fmt : 各点のマーカの種類"
      ]
    },
    {
      "cell_type": "code",
      "metadata": {
        "id": "UotsV0azqCQ9"
      },
      "source": [
        "# 真の値(観測者は未知)\n",
        "x = np.array([0, 1, 2, 3, 4, 5])\n",
        "y = x"
      ],
      "execution_count": 44,
      "outputs": []
    },
    {
      "cell_type": "code",
      "metadata": {
        "colab": {
          "base_uri": "https://localhost:8080/",
          "height": 279
        },
        "id": "3NLe-WF58fsu",
        "outputId": "3d80868c-a0e4-435e-be0a-b98fd39608f7"
      },
      "source": [
        "fig, ax = plt.subplots()\n",
        "ax.plot(x, y, marker='o')\n",
        "ax.set_xlabel('x')\n",
        "ax.set_ylabel('y_pop')\n",
        "plt.show()"
      ],
      "execution_count": 50,
      "outputs": [
        {
          "output_type": "display_data",
          "data": {
            "image/png": "[encoded data removed]",
            "text/plain": [
              "<Figure size 432x288 with 1 Axes>"
            ]
          },
          "metadata": {
            "tags": [],
            "needs_background": "light"
          }
        }
      ]
    },
    {
      "cell_type": "code",
      "metadata": {
        "id": "CwnZodYNsHra"
      },
      "source": [
        "# 誤差の値\n",
        "xerr = np.array([0.1, 0.2, 0.3, 0.4, 0.5, 0.6])\n",
        "yerr = np.array([0.6, 0.5, 0.4, 0.3, 0.2, 0.1])"
      ],
      "execution_count": 45,
      "outputs": []
    },
    {
      "cell_type": "code",
      "metadata": {
        "colab": {
          "base_uri": "https://localhost:8080/",
          "height": 279
        },
        "id": "CqORAZY0ps2C",
        "outputId": "b2680ad2-02ea-4dd4-d42d-01ababb17a51"
      },
      "source": [
        "fig, ax = plt.subplots()\n",
        "ax.errorbar(x, y, xerr=xerr, yerr=yerr, capsize=4, fmt='o', ecolor='red', color='black')\n",
        "ax.set_xlabel('x')\n",
        "ax.set_ylabel('y')\n",
        "plt.show()"
      ],
      "execution_count": 76,
      "outputs": [
        {
          "output_type": "display_data",
          "data": {
            "image/png": "[encoded data removed]",
            "text/plain": [
              "<Figure size 432x288 with 1 Axes>"
            ]
          },
          "metadata": {
            "tags": [],
            "needs_background": "light"
          }
        }
      ]
    },
    {
      "cell_type": "markdown",
      "metadata": {
        "id": "OjHpSS_S268Q"
      },
      "source": [
        "## 各点の観測点を仮想的に作る\n",
        "\n",
        "各点の真の値に、ガウスノイズを加えることで仮想的に観測値の誤差を再現する。\n"
      ]
    },
    {
      "cell_type": "code",
      "metadata": {
        "colab": {
          "base_uri": "https://localhost:8080/",
          "height": 359
        },
        "id": "YhMCwklZ3Sl8",
        "outputId": "f3bf88e0-971b-4c7d-88f2-da46669d8820"
      },
      "source": [
        "y_obs = np.zeros((10, 6))\n",
        "for i in range(10):\n",
        "    y_obs[i, 0] = x[0] + np.random.rand()\n",
        "    y_obs[i, 1] = x[1] + np.random.rand()\n",
        "    y_obs[i, 2] = x[2] + np.random.rand()\n",
        "    y_obs[i, 3] = x[3] + np.random.rand()\n",
        "    y_obs[i, 4] = x[4] + np.random.rand()\n",
        "    y_obs[i, 5] = x[5] + np.random.rand()\n",
        "\n",
        "data = pd.DataFrame(y_obs, index=[f'観測値{i}' for i in range(1, 11)])\n",
        "data"
      ],
      "execution_count": 72,
      "outputs": [
        {
          "output_type": "execute_result",
          "data": {
            "text/html": [
              "<div>\n",
              "<style scoped>\n",
              "    .dataframe tbody tr th:only-of-type {\n",
              "        vertical-align: middle;\n",
              "    }\n",
              "\n",
              "    .dataframe tbody tr th {\n",
              "        vertical-align: top;\n",
              "    }\n",
              "\n",
              "    .dataframe thead th {\n",
              "        text-align: right;\n",
              "    }\n",
              "</style>\n",
              "<table border=\"1\" class=\"dataframe\">\n",
              "  <thead>\n",
              "    <tr style=\"text-align: right;\">\n",
              "      <th></th>\n",
              "      <th>0</th>\n",
              "      <th>1</th>\n",
              "      <th>2</th>\n",
              "      <th>3</th>\n",
              "      <th>4</th>\n",
              "      <th>5</th>\n",
              "    </tr>\n",
              "  </thead>\n",
              "  <tbody>\n",
              "    <tr>\n",
              "      <th>観測値1</th>\n",
              "      <td>0.474999</td>\n",
              "      <td>1.792972</td>\n",
              "      <td>2.861497</td>\n",
              "      <td>3.566244</td>\n",
              "      <td>4.424141</td>\n",
              "      <td>5.790977</td>\n",
              "    </tr>\n",
              "    <tr>\n",
              "      <th>観測値2</th>\n",
              "      <td>0.620454</td>\n",
              "      <td>1.270816</td>\n",
              "      <td>2.377342</td>\n",
              "      <td>3.607985</td>\n",
              "      <td>4.247639</td>\n",
              "      <td>5.602286</td>\n",
              "    </tr>\n",
              "    <tr>\n",
              "      <th>観測値3</th>\n",
              "      <td>0.933140</td>\n",
              "      <td>1.363218</td>\n",
              "      <td>2.606142</td>\n",
              "      <td>3.052352</td>\n",
              "      <td>4.398530</td>\n",
              "      <td>5.043758</td>\n",
              "    </tr>\n",
              "    <tr>\n",
              "      <th>観測値4</th>\n",
              "      <td>0.395285</td>\n",
              "      <td>1.781431</td>\n",
              "      <td>2.446073</td>\n",
              "      <td>3.277021</td>\n",
              "      <td>4.186398</td>\n",
              "      <td>5.318495</td>\n",
              "    </tr>\n",
              "    <tr>\n",
              "      <th>観測値5</th>\n",
              "      <td>0.670402</td>\n",
              "      <td>1.252782</td>\n",
              "      <td>2.927352</td>\n",
              "      <td>3.554647</td>\n",
              "      <td>4.662981</td>\n",
              "      <td>5.834659</td>\n",
              "    </tr>\n",
              "    <tr>\n",
              "      <th>観測値6</th>\n",
              "      <td>0.730515</td>\n",
              "      <td>1.293603</td>\n",
              "      <td>2.828827</td>\n",
              "      <td>3.439353</td>\n",
              "      <td>4.234921</td>\n",
              "      <td>5.041822</td>\n",
              "    </tr>\n",
              "    <tr>\n",
              "      <th>観測値7</th>\n",
              "      <td>0.501187</td>\n",
              "      <td>1.026021</td>\n",
              "      <td>2.600321</td>\n",
              "      <td>3.280937</td>\n",
              "      <td>4.467154</td>\n",
              "      <td>5.435941</td>\n",
              "    </tr>\n",
              "    <tr>\n",
              "      <th>観測値8</th>\n",
              "      <td>0.027809</td>\n",
              "      <td>1.306721</td>\n",
              "      <td>2.975929</td>\n",
              "      <td>3.120647</td>\n",
              "      <td>4.073994</td>\n",
              "      <td>5.608467</td>\n",
              "    </tr>\n",
              "    <tr>\n",
              "      <th>観測値9</th>\n",
              "      <td>0.599547</td>\n",
              "      <td>1.633243</td>\n",
              "      <td>2.001286</td>\n",
              "      <td>3.074995</td>\n",
              "      <td>4.606126</td>\n",
              "      <td>5.585030</td>\n",
              "    </tr>\n",
              "    <tr>\n",
              "      <th>観測値10</th>\n",
              "      <td>0.817481</td>\n",
              "      <td>1.319881</td>\n",
              "      <td>2.009424</td>\n",
              "      <td>3.958130</td>\n",
              "      <td>4.901822</td>\n",
              "      <td>5.091508</td>\n",
              "    </tr>\n",
              "  </tbody>\n",
              "</table>\n",
              "</div>"
            ],
            "text/plain": [
              "              0         1         2         3         4         5\n",
              "観測値1   0.474999  1.792972  2.861497  3.566244  4.424141  5.790977\n",
              "観測値2   0.620454  1.270816  2.377342  3.607985  4.247639  5.602286\n",
              "観測値3   0.933140  1.363218  2.606142  3.052352  4.398530  5.043758\n",
              "観測値4   0.395285  1.781431  2.446073  3.277021  4.186398  5.318495\n",
              "観測値5   0.670402  1.252782  2.927352  3.554647  4.662981  5.834659\n",
              "観測値6   0.730515  1.293603  2.828827  3.439353  4.234921  5.041822\n",
              "観測値7   0.501187  1.026021  2.600321  3.280937  4.467154  5.435941\n",
              "観測値8   0.027809  1.306721  2.975929  3.120647  4.073994  5.608467\n",
              "観測値9   0.599547  1.633243  2.001286  3.074995  4.606126  5.585030\n",
              "観測値10  0.817481  1.319881  2.009424  3.958130  4.901822  5.091508"
            ]
          },
          "metadata": {
            "tags": []
          },
          "execution_count": 72
        }
      ]
    },
    {
      "cell_type": "code",
      "metadata": {
        "colab": {
          "base_uri": "https://localhost:8080/"
        },
        "id": "zNJ3JGYN6CQw",
        "outputId": "34960656-3c1b-4d33-98a8-09599af86071"
      },
      "source": [
        "# データの範囲\n",
        "data.max() - data.min()"
      ],
      "execution_count": 64,
      "outputs": [
        {
          "output_type": "execute_result",
          "data": {
            "text/plain": [
              "0    0.878707\n",
              "1    0.963135\n",
              "2    0.829554\n",
              "3    0.836744\n",
              "4    0.775076\n",
              "5    0.702056\n",
              "dtype: float64"
            ]
          },
          "metadata": {
            "tags": []
          },
          "execution_count": 64
        }
      ]
    },
    {
      "cell_type": "code",
      "metadata": {
        "colab": {
          "base_uri": "https://localhost:8080/"
        },
        "id": "MOnnDWwV567r",
        "outputId": "7d99858b-0e1b-4f29-f6b7-b043271b6e8f"
      },
      "source": [
        "# 標準偏差\n",
        "data.std()"
      ],
      "execution_count": 65,
      "outputs": [
        {
          "output_type": "execute_result",
          "data": {
            "text/plain": [
              "0    0.292589\n",
              "1    0.399725\n",
              "2    0.299716\n",
              "3    0.307299\n",
              "4    0.283979\n",
              "5    0.238467\n",
              "dtype: float64"
            ]
          },
          "metadata": {
            "tags": []
          },
          "execution_count": 65
        }
      ]
    },
    {
      "cell_type": "code",
      "metadata": {
        "colab": {
          "base_uri": "https://localhost:8080/"
        },
        "id": "3U9f254W6OTC",
        "outputId": "5e8e10e7-fcb8-4193-af9f-ebce64551e03"
      },
      "source": [
        "# 標準誤差\n",
        "data.std() / np.sqrt(len(data))"
      ],
      "execution_count": 66,
      "outputs": [
        {
          "output_type": "execute_result",
          "data": {
            "text/plain": [
              "0    0.092525\n",
              "1    0.126404\n",
              "2    0.094778\n",
              "3    0.097176\n",
              "4    0.089802\n",
              "5    0.075410\n",
              "dtype: float64"
            ]
          },
          "metadata": {
            "tags": []
          },
          "execution_count": 66
        }
      ]
    },
    {
      "cell_type": "code",
      "metadata": {
        "id": "Dd2n_N1l4ZBt"
      },
      "source": [
        "# それぞれの誤差をまとめる\n",
        "yerr_scope = np.array(data.max() - data.min())\n",
        "yerr_sd = np.array(data.std()) \n",
        "yerr_se = np.array(data.std() / np.sqrt(len(data)))"
      ],
      "execution_count": 67,
      "outputs": []
    },
    {
      "cell_type": "code",
      "metadata": {
        "id": "3DyT_D8n55Ct"
      },
      "source": [
        ""
      ],
      "execution_count": 68,
      "outputs": []
    },
    {
      "cell_type": "code",
      "metadata": {
        "colab": {
          "base_uri": "https://localhost:8080/",
          "height": 295
        },
        "id": "Sc5we68Y8L94",
        "outputId": "55e79a25-7b52-4543-ff25-1f321ea654d3"
      },
      "source": [
        "# 各点を平均値とする\n",
        "y_mean = np.array(data.mean())\n",
        "\n",
        "fig, ax = plt.subplots()\n",
        "ax.errorbar(x, y, yerr=yerr_scope, capsize=4, fmt='o', ecolor='red', color='black')\n",
        "ax.set_xlabel('x')\n",
        "ax.set_ylabel('y_obs')\n",
        "ax.set_title('error bar : scope')\n",
        "plt.show()"
      ],
      "execution_count": 78,
      "outputs": [
        {
          "output_type": "display_data",
          "data": {
            "image/png": "[encoded data removed]",
            "text/plain": [
              "<Figure size 432x288 with 1 Axes>"
            ]
          },
          "metadata": {
            "tags": [],
            "needs_background": "light"
          }
        }
      ]
    },
    {
      "cell_type": "code",
      "metadata": {
        "colab": {
          "base_uri": "https://localhost:8080/",
          "height": 295
        },
        "id": "Kw6opayG80nd",
        "outputId": "efc263bb-a017-406f-dc27-cac6a415c796"
      },
      "source": [
        "# 各点を平均値とする\n",
        "y_mean = np.array(data.mean())\n",
        "\n",
        "fig, ax = plt.subplots()\n",
        "ax.errorbar(x, y, yerr=yerr_sd, capsize=4, fmt='o', ecolor='red', color='black')\n",
        "ax.set_xlabel('x')\n",
        "ax.set_ylabel('y_obs')\n",
        "ax.set_title('error bar : SD')\n",
        "plt.show()"
      ],
      "execution_count": 80,
      "outputs": [
        {
          "output_type": "display_data",
          "data": {
            "image/png": "[encoded data removed]",
            "text/plain": [
              "<Figure size 432x288 with 1 Axes>"
            ]
          },
          "metadata": {
            "tags": [],
            "needs_background": "light"
          }
        }
      ]
    },
    {
      "cell_type": "code",
      "metadata": {
        "colab": {
          "base_uri": "https://localhost:8080/",
          "height": 295
        },
        "id": "qIvrAtxE9I7H",
        "outputId": "b113bb93-561e-427f-987f-9e7fd0f87b0b"
      },
      "source": [
        "# 各点を平均値とする\n",
        "y_mean = np.array(data.mean())\n",
        "\n",
        "fig, ax = plt.subplots()\n",
        "ax.errorbar(x, y, yerr=yerr_se, capsize=4, fmt='o', ecolor='red', color='black')\n",
        "ax.set_xlabel('x')\n",
        "ax.set_ylabel('y_obs')\n",
        "ax.set_title('error bar : SE')\n",
        "plt.show()"
      ],
      "execution_count": 81,
      "outputs": [
        {
          "output_type": "display_data",
          "data": {
            "image/png": "[encoded data removed]",
            "text/plain": [
              "<Figure size 432x288 with 1 Axes>"
            ]
          },
          "metadata": {
            "tags": [],
            "needs_background": "light"
          }
        }
      ]
    },
    {
      "cell_type": "code",
      "metadata": {
        "id": "rxfrQNOr9Np3"
      },
      "source": [
        ""
      ],
      "execution_count": null,
      "outputs": []
    }
  ]
}